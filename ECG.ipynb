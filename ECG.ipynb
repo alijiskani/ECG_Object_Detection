{
  "nbformat": 4,
  "nbformat_minor": 0,
  "metadata": {
    "colab": {
      "name": "ECG.ipynb",
      "provenance": [],
      "collapsed_sections": []
    },
    "kernelspec": {
      "name": "python3",
      "display_name": "Python 3"
    }
  },
  "cells": [
    {
      "cell_type": "code",
      "metadata": {
        "id": "xEoC5KFDGVVM"
      },
      "source": [
        "#Mount Google Drive \n",
        "from google.colab import drive \n",
        "drive.mount('/drive')"
      ],
      "execution_count": null,
      "outputs": []
    }
  ]
}